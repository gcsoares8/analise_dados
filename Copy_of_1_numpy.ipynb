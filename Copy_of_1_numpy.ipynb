{
  "nbformat": 4,
  "nbformat_minor": 0,
  "metadata": {
    "kernelspec": {
      "display_name": "Python 3",
      "language": "python",
      "name": "python3"
    },
    "language_info": {
      "codemirror_mode": {
        "name": "ipython",
        "version": 3
      },
      "file_extension": ".py",
      "mimetype": "text/x-python",
      "name": "python",
      "nbconvert_exporter": "python",
      "pygments_lexer": "ipython3",
      "version": "3.7.4"
    },
    "colab": {
      "name": "Copy of 1_numpy.ipynb",
      "provenance": [],
      "include_colab_link": true
    }
  },
  "cells": [
    {
      "cell_type": "markdown",
      "metadata": {
        "id": "view-in-github",
        "colab_type": "text"
      },
      "source": [
        "<a href=\"https://colab.research.google.com/github/gcsoares8/analise_dados/blob/master/Copy_of_1_numpy.ipynb\" target=\"_parent\"><img src=\"https://colab.research.google.com/assets/colab-badge.svg\" alt=\"Open In Colab\"/></a>"
      ]
    },
    {
      "cell_type": "markdown",
      "metadata": {
        "id": "RQ2sHoFy6fWq",
        "colab_type": "text"
      },
      "source": [
        "# NumPy - Manipulando Dados Numéricos"
      ]
    },
    {
      "cell_type": "markdown",
      "metadata": {
        "id": "mcUZ3yD16fWt",
        "colab_type": "text"
      },
      "source": [
        "## O que é o NumPy?\n",
        "\n",
        "O *NumPy* é uma biblioteca para a Linguagem de Programação Python, que da suporte à linguagem para trabalhar com grandes matrizes e vetores multidimensionais, juntamente com uma ampla coleção de funções matemáticas de alto nível.\n",
        "\n",
        "Especificamente, essa bibioteca fornece ao Python, objetos *arrays* multidimensionais e vários objetos derivados (p. ex.: masked arrays e matrices), com um conjunto de funções para operações rápidas em vetores e a Computação Numérica, por exemplo: \n",
        "\n",
        "* Funções Matemáticas e Lógicas;\n",
        "* Manipulação de Formas;\n",
        "* Ordenação;\n",
        "* Seleção;\n",
        "* Leitura de Dados (E/S);\n",
        "* Transformada Discreta de Fourier;\n",
        "* Álgebra Linear Básica;\n",
        "* Operações Estatísticas Básicas;\n",
        "* Simulação Aleatória.\n",
        "\n",
        "No núcleo da biblioteca NumPy temos o objeto *narray* que encapsula vetores n-dimensionais com tipos de dados homgêneos e muitas operações executadas no código compilado a fim de desempenho. \n",
        "\n",
        "### NumPy X Sequências Padrão do Python\n",
        "\n",
        "Existem várias diferenças importantes entre os vetores do NumPy e as sequências padrão do Python, são elas: \n",
        "\n",
        "* **Vetores Estáticos:** os vetores do NumPy têm tamanho fixo em sua criação, diferente das listas do Python que podem crescer dinamicamente em tempo de execução. Logo, quando alteramos o tamanho de um objeto *narray*, será criado um novo vetor e excluído o original;\n",
        "\n",
        "* **Tipo de Dados Homogêneo dos Itens:**  todos os elementos dos vetores em NumPy, devem ser obrigatoriamente do mesmo tipo de dados, logo, eles irão ter o mesmo tamanho em memória;\n",
        "\n",
        "* **Operações Matemáticas Avançadas:** os vetores do NumPy otimizam operações matemáticas avançadas e qualquer tipo de outras operações para um grande número de dados. Na prática, essas operações são executadas mais eficientemente e com menos código do que se usarmos as sequências padrão do Python;"
      ]
    },
    {
      "cell_type": "code",
      "metadata": {
        "id": "o-g8JPhS6fWu",
        "colab_type": "code",
        "colab": {}
      },
      "source": [
        "# NumPy na Prática\n",
        "import numpy as np             # Importa a biblioteca NumPy para seu projeto\n",
        "\n",
        "vetor = np.array([0, 1, 2, 3]) # instancia um vetor (array) em NumPy\n",
        "vetor                          # Imprime seu conteúdo"
      ],
      "execution_count": 0,
      "outputs": []
    },
    {
      "cell_type": "markdown",
      "metadata": {
        "id": "s3C_DHU96fWz",
        "colab_type": "text"
      },
      "source": [
        "## Tipos de Dados"
      ]
    },
    {
      "cell_type": "markdown",
      "metadata": {
        "id": "RQEdKwby6fW0",
        "colab_type": "text"
      },
      "source": [
        "| Tipo de Dado | Descrição                                            |\n",
        "|:-------------|:-----------------------------------------------------|\n",
        "| np.int64     | Números inteiros de 64bits                           |\n",
        "| np.float32   | Números de ponto flutuante de precisão dupla (Reais) |\n",
        "| np.complex   | Números Complexos                                    |\n",
        "| np.bool      | Tipo lógico (Booleano)                               |\n",
        "| np.object    | Tipo object do Python                                |\n",
        "| np.string_   | Cadeia de Caracteres Fixa (String)                   |\n",
        "| np.unicode_  | Cadeia de Caracteres Unicode Fixa (String)           |"
      ]
    },
    {
      "cell_type": "markdown",
      "metadata": {
        "id": "Yo6lJ9XW6fW2",
        "colab_type": "text"
      },
      "source": [
        "## Criação de Vetores"
      ]
    },
    {
      "cell_type": "markdown",
      "metadata": {
        "id": "0G8WbS576fW3",
        "colab_type": "text"
      },
      "source": [
        "### Construção Manual de Vetores"
      ]
    },
    {
      "cell_type": "code",
      "metadata": {
        "id": "jZ_V6HJr6fW5",
        "colab_type": "code",
        "colab": {}
      },
      "source": [
        "# CONSTRUÇÃO MANUAL DE VETORES\n",
        "# Unidimencional (1D)\n",
        "\n",
        "vetor_numpy = np.array([0, 1, 2, 3, 4])\n",
        "\n",
        "print(vetor_numpy)        # Imprime o vetor\n",
        "print(vetor_numpy.ndim)   # Retorna o número de dimensões do vetor\n",
        "print(vetor_numpy.shape)  # Retorna a forma do vetor ou atribui uma tupla para as dimnesões do vetor\n",
        "print(len(vetor_numpy))   # Retorna o número de elementos do vetor\n",
        "\n",
        "# Multi-dimencional (n-D)\n",
        "\n",
        "# Matriz Bidimensional 2 (linhas) X 3 (colunas)\n",
        "matriz_numpy = np.array([[0, 1, 2], [3, 4, 5]]) \n",
        "\n",
        "print(matriz_numpy)\n",
        "print(matriz_numpy.ndim)\n",
        "print(matriz_numpy.shape)\n",
        "print(len(matriz_numpy))         # Retorna o tamanho da primeira dimensão do vetor (linhas)"
      ],
      "execution_count": 0,
      "outputs": []
    },
    {
      "cell_type": "markdown",
      "metadata": {
        "id": "7ET68fie6fW_",
        "colab_type": "text"
      },
      "source": [
        "### Funções para Criação de Vetores"
      ]
    },
    {
      "cell_type": "code",
      "metadata": {
        "id": "n4gusk_t6fXA",
        "colab_type": "code",
        "colab": {}
      },
      "source": [
        "# Vetores Igualmente Espaçado\n",
        "print(\"Vetores Igualmente Espaçado\")\n",
        "vetor = np.arange(10) # 0 .. n - 1\n",
        "print(vetor)\n",
        "\n",
        "vetor_impar = np.arange(1, 9, 2) # Início, Fim e Incremento\n",
        "print(vetor_impar)\n",
        "\n",
        "# Vetores por números de pontos\n",
        "print(\"\\nVetores por Números de Pontos\")\n",
        "numero_pontos = np.linspace(0, 1, 6) # Início, Fim, Número de Pontos\n",
        "print(numero_pontos)\n",
        "\n",
        "# Matrizes Populares\n",
        "print(\"\\nMATRIZES POPULARES\")\n",
        "print(\"\\nMatriz de Uns\")\n",
        "matriz_de_uns = np.ones((3, 3)) # Tupla (3, 3)\n",
        "print(matriz_de_uns)\n",
        "\n",
        "print(\"\\nMatriz de Zeros\")\n",
        "matriz_de_zeros = np.zeros((2, 2))\n",
        "print(matriz_de_zeros)\n",
        "\n",
        "print(\"\\nMatriz Zerada com Diagonal de Uns\")\n",
        "matriz_zeros_diagonal_uns = np.eye(4)\n",
        "print(matriz_zeros_diagonal_uns)\n",
        "\n",
        "print(\"\\nMatriz Zerada com Diagonal de Permutações\")\n",
        "matriz_diagonal_permutacao = np.diag(np.array([1, 2, 3, 4]))\n",
        "print(matriz_diagonal_permutacao)\n",
        "\n",
        "print(\"\\nVETORES ALEATÓRIOS\")\n",
        "print(\"\\nVetor Aleatório Uniforme\")\n",
        "vetor_uniforme_aleatorio = np.random.rand(4)\n",
        "print(vetor_uniforme_aleatorio)\n",
        "\n",
        "print(\"\\nVetor Aleatório Gaussiano\")\n",
        "vetor_aleatorio_gaussiano = np.random.randn(4)\n",
        "print(vetor_aleatorio_gaussiano)\n",
        "\n",
        "np.random.seed(1234) # Definindo a semente aleatória"
      ],
      "execution_count": 0,
      "outputs": []
    },
    {
      "cell_type": "markdown",
      "metadata": {
        "id": "02HfcYW66fXE",
        "colab_type": "text"
      },
      "source": [
        "### Operações Matemáticas com Vetores"
      ]
    },
    {
      "cell_type": "code",
      "metadata": {
        "id": "aIsOQC0O6fXE",
        "colab_type": "code",
        "colab": {}
      },
      "source": [
        "import numpy as np\n",
        "\n",
        "vetor_a = np.array([1, 2, 3])\n",
        "vetor_b = np.array([4, 5, 6])\n",
        "\n",
        "\n",
        "# Adição\n",
        "vetor_a + vetor_b              # Usando operador aritmético\n",
        "np.add(vetor_a, vetor_b)       # Usando função definida do NumPy\n",
        "\n",
        "# Subtração\n",
        "vetor_a - vetor_b              # Usando operador aritmético\n",
        "np.subtract(vetor_a, vetor_b)  # Usando função definida do NumPy\n",
        "\n",
        "# Multiplicação\n",
        "vetor_a * vetor_b              # Usando operador aritmético\n",
        "np.multiply(vetor_a, vetor_b)  # Usando função definida do NumPy\n",
        "\n",
        "# Divisão\n",
        "vetor_a / vetor_b              # Usando operador aritmético\n",
        "np.divide(vetor_a, vetor_b)    # Usando função definida do NumPy\n",
        "\n",
        "# Raiz Quadrada\n",
        "np.sqrt(vetor_a)\n",
        "\n",
        "# Função Exponencia\n",
        "np.exp(vetor_a)                \n",
        "\n",
        "# Seno\n",
        "np.sin(vetor_a)\n",
        "\n",
        "# Coseno\n",
        "np.cos(vetor_a)\n",
        "\n",
        "# Logaritmo Natural\n",
        "np.log(vetor_a)"
      ],
      "execution_count": 0,
      "outputs": []
    },
    {
      "cell_type": "markdown",
      "metadata": {
        "id": "Xn3kvXoW6fXI",
        "colab_type": "text"
      },
      "source": [
        "### Comparação"
      ]
    },
    {
      "cell_type": "code",
      "metadata": {
        "id": "r3g0A3un6fXJ",
        "colab_type": "code",
        "colab": {}
      },
      "source": [
        "import numpy as np\n",
        "\n",
        "vetor_a = np.array([1, 2, 3])\n",
        "vetor_b = np.array([4, 5, 6])\n",
        "\n",
        "# Compara cada um dos elementos dos vetores\n",
        "# Retorna um vetor booleano com os resultados da comparação\n",
        "vetor_a == vetor_b\n",
        "vetor_a != vetor_b\n",
        "\n",
        "vetor_a > vetor_b\n",
        "vetor_a >= vetor_b\n",
        "\n",
        "vetor_a < vetor_b\n",
        "vetor_a <= vetor_b"
      ],
      "execution_count": 0,
      "outputs": []
    },
    {
      "cell_type": "markdown",
      "metadata": {
        "id": "KZ1f8FRl6fXQ",
        "colab_type": "text"
      },
      "source": [
        "### Funções Agregadas"
      ]
    },
    {
      "cell_type": "code",
      "metadata": {
        "id": "pFKERWha6fXS",
        "colab_type": "code",
        "colab": {}
      },
      "source": [
        "import numpy as np\n",
        "\n",
        "vetor = np.array([1, 2, 3, 4, 5])\n",
        "\n",
        "vetor.sum()         # Soma todos os elementos do vetor\n",
        "vetor.cumsum()      # Soma acumulada de todos os elementos do vetor\n",
        "\n",
        "vetor.min()         # Retorna o menor elemento do vetor numérico\n",
        "vetor.max()         # Retorna o maior elemento do vetor numérico\n",
        "\n",
        "vetor.mean()        # Média\n",
        "np.median(vetor)    # Mediana\n",
        "np.corrcoef(vetor)  # Coeficiente de Correlação\n",
        "np.std(vetor)       # Desvio Padrão"
      ],
      "execution_count": 0,
      "outputs": []
    },
    {
      "cell_type": "markdown",
      "metadata": {
        "id": "c7jz4i6D6fXZ",
        "colab_type": "text"
      },
      "source": [
        "### Copiando Vetores"
      ]
    },
    {
      "cell_type": "code",
      "metadata": {
        "id": "n6Q1q-BV6fXa",
        "colab_type": "code",
        "colab": {}
      },
      "source": [
        "import numpy as np\n",
        "\n",
        "vetor = np.array([1, 2, 3, 4, 5])\n",
        "\n",
        "copia_vetor = np.copy(vetor)\n",
        "print(copia_vetor)\n",
        "\n",
        "copia = vetor.copy()  \n",
        "print(copia)\n",
        "\n",
        "visao = vetor.view()  # Cria uma visão (view) do vetor [representação virutal em memória]\n",
        "print(visao)"
      ],
      "execution_count": 0,
      "outputs": []
    },
    {
      "cell_type": "markdown",
      "metadata": {
        "id": "-3bWzCRT6fXe",
        "colab_type": "text"
      },
      "source": [
        "### Ordenando Vetores"
      ]
    },
    {
      "cell_type": "code",
      "metadata": {
        "id": "ZfGa7fzH6fXf",
        "colab_type": "code",
        "colab": {}
      },
      "source": [
        "import numpy as np\n",
        "\n",
        "vetor = np.array([9, 8, 7, 6, 5, 4, 3, 2, 1])\n",
        "vetor.sort()\n",
        "vetor"
      ],
      "execution_count": 0,
      "outputs": []
    },
    {
      "cell_type": "markdown",
      "metadata": {
        "id": "bFjfIa5x6fXj",
        "colab_type": "text"
      },
      "source": [
        "### Subconjunto, Fatiamento e Indexação"
      ]
    },
    {
      "cell_type": "code",
      "metadata": {
        "id": "yxLXuDzk6fXk",
        "colab_type": "code",
        "colab": {}
      },
      "source": [
        "import numpy as np\n",
        "\n",
        "vetor = np.array([1, 2, 3, 4, 5])\n",
        "matriz = np.array([(1, 2, 3), (4, 5, 6), (7, 8, 9)])\n",
        "\n",
        "\n",
        "print(vetor[2])        # vetor[i] = Pega o elemento do vetor na posição (i)\n",
        "print(matriz[1, 2])    # vetor[linha, coluna] = Pega um elemento em uma matriz\n",
        "\n",
        "\n",
        "print(vetor[0:3])      # vetor[inicio:quantidade] = Retorna 3 elementos contados à partir da posição de início ([0] \n",
        "print(matriz[1:2])     # Seleciona todos elementos da primeira linha até a terceira coluna\n",
        "print(matriz[0:3, 1])  # matriz[inicio:quantidade, coluna] Seleciona 3 elementos da segunda coluna [1], à partir da primeira linha [0]\n",
        "\n",
        "print(matriz[:1])      # Seleciona todos os itens da primeira linha\n",
        "print(matriz[:2])      # Seleciona todos os itens da primeira linha e segunda linha\n",
        "\n",
        "print(vetor[ : :-1])   # Seleciona todos os elementos de trás pra frente (invertido)\n",
        "\n",
        "# Indexação Lógica\n",
        "print(vetor[vetor <= 3]) # Seleciona todos os elementos dos índices menores iguais a 3\n",
        "print(vetor[1 + 3])      # Calcula dinamicamente a posição do vetor\n",
        "\n",
        "\n",
        "print(matriz[[1, 0, 1, 0]]) # Retorna uma matriz com as linhas 1 e 0 repetidas"
      ],
      "execution_count": 0,
      "outputs": []
    },
    {
      "cell_type": "markdown",
      "metadata": {
        "id": "eQN1Cbo36fXn",
        "colab_type": "text"
      },
      "source": [
        "## Entrada/Saída (I/O)"
      ]
    },
    {
      "cell_type": "code",
      "metadata": {
        "id": "cZ98S08G6fXo",
        "colab_type": "code",
        "colab": {}
      },
      "source": [
        "import numpy as np\n",
        "from io import StringIO\n",
        "\n",
        "data = u\"1, 2, 3\\n4, 5, 6\"\n",
        "vetor = np.genfromtxt(StringIO(data), delimiter=\",\") # Converte dados para vetor\n",
        "np.savetxt(\"nome_arquivo.txt\", vetor, delimiter=\" \") # Salva o vetor como arquivo"
      ],
      "execution_count": 0,
      "outputs": []
    },
    {
      "cell_type": "markdown",
      "metadata": {
        "id": "K9PjPBrm6fXr",
        "colab_type": "text"
      },
      "source": [
        "```python\n",
        "# Exemplo - Carregamento de Arquivos\n",
        "np.genfromtxt(\"nome_arquivo.csv\", delimiter=',')\n",
        "np.loadtxt(\"nome_arquivo.txt\")\n",
        "```"
      ]
    },
    {
      "cell_type": "markdown",
      "metadata": {
        "id": "yMHKoWgP6fXs",
        "colab_type": "text"
      },
      "source": [
        "# Exercícios"
      ]
    },
    {
      "cell_type": "markdown",
      "metadata": {
        "id": "mIXyxmLD6fXt",
        "colab_type": "text"
      },
      "source": [
        "1. Importe o pacote numpy com o nome np."
      ]
    },
    {
      "cell_type": "code",
      "metadata": {
        "id": "7geNSAmB6fXu",
        "colab_type": "code",
        "colab": {}
      },
      "source": [
        "import numpy as np\n"
      ],
      "execution_count": 0,
      "outputs": []
    },
    {
      "cell_type": "markdown",
      "metadata": {
        "id": "ZcY4YlZn6fXy",
        "colab_type": "text"
      },
      "source": [
        "2. Crie o seguinte vetor unidimensional (1D):\n",
        "\n",
        "| 0 | 1 | 2 | 3 | 4 | 5 | 6 | 7 | 8 | 9 |\n",
        "|:-:|:-:|:-:|:-:|:-:|:-:|:-:|:-:|:-:|:-:|"
      ]
    },
    {
      "cell_type": "code",
      "metadata": {
        "id": "nAVGghgZ6fXy",
        "colab_type": "code",
        "colab": {}
      },
      "source": [
        "vetor = np.array([0, 1, 2, 3, 4, 5, 6, 7, 8, 9])\n"
      ],
      "execution_count": 0,
      "outputs": []
    },
    {
      "cell_type": "markdown",
      "metadata": {
        "id": "iZapAEBb6fX2",
        "colab_type": "text"
      },
      "source": [
        "3. Qual é o comprimento `len` do vetor?"
      ]
    },
    {
      "cell_type": "code",
      "metadata": {
        "id": "LwodCQkb6fX3",
        "colab_type": "code",
        "colab": {}
      },
      "source": [
        "vetor = np.array([0, 1, 2, 3, 4, 5, 6, 7, 8, 9])\n",
        "\n",
        "print(len(vetor));"
      ],
      "execution_count": 0,
      "outputs": []
    },
    {
      "cell_type": "markdown",
      "metadata": {
        "id": "NT7AEdo66fX7",
        "colab_type": "text"
      },
      "source": [
        "4. Quantas dimensões `ndim` o vetor possui?"
      ]
    },
    {
      "cell_type": "code",
      "metadata": {
        "id": "5OxZsc1k6fX8",
        "colab_type": "code",
        "colab": {}
      },
      "source": [
        "vetor = np.array([0, 1, 2, 3, 4, 5, 6, 7, 8, 9])\n",
        "\n",
        "print(np.ndim(vetor));\n",
        "\n"
      ],
      "execution_count": 0,
      "outputs": []
    },
    {
      "cell_type": "markdown",
      "metadata": {
        "id": "JVjFUo-N6fYG",
        "colab_type": "text"
      },
      "source": [
        "5. O que a função `shape` retorna?"
      ]
    },
    {
      "cell_type": "code",
      "metadata": {
        "id": "qiQBqo2S6fYH",
        "colab_type": "code",
        "colab": {}
      },
      "source": [
        "vetor = np.array([0, 1, 2, 3, 4, 5, 6, 7, 8, 9])\n",
        "\n",
        "print(np.shape(vetor));"
      ],
      "execution_count": 0,
      "outputs": []
    },
    {
      "cell_type": "markdown",
      "metadata": {
        "id": "3umUrYcl6fYO",
        "colab_type": "text"
      },
      "source": [
        "**Resposta**:"
      ]
    },
    {
      "cell_type": "markdown",
      "metadata": {
        "id": "jr38-Yrh6fYP",
        "colab_type": "text"
      },
      "source": [
        "6. Crie a variável *pares* e extraia todos os números pares do vetor para ela:"
      ]
    },
    {
      "cell_type": "code",
      "metadata": {
        "id": "0IQ7lAVS6fYQ",
        "colab_type": "code",
        "colab": {}
      },
      "source": [
        "vetor = np.array([0, 1, 2, 3, 4, 5, 6, 7, 8, 9])\n",
        "\n",
        "pares = ([vetor[0],vetor[2],vetor[4],vetor[6],vetor[8]]);\n",
        "\n",
        "print(pares)"
      ],
      "execution_count": 0,
      "outputs": []
    },
    {
      "cell_type": "markdown",
      "metadata": {
        "id": "NFxwcQGH6fYU",
        "colab_type": "text"
      },
      "source": [
        "7. Substitua todos os elementos ímpares do vetor por -1, em seguida, ordene os resultados:"
      ]
    },
    {
      "cell_type": "code",
      "metadata": {
        "id": "euH4JBWU6fYV",
        "colab_type": "code",
        "colab": {}
      },
      "source": [
        "vetor = np.array([0, 1, 2, 3, 4, 5, 6, 7, 8, 9])\n",
        "\n",
        "print(np.where(vetor%2!=0,-1,vetor));"
      ],
      "execution_count": 0,
      "outputs": []
    },
    {
      "cell_type": "markdown",
      "metadata": {
        "id": "k1HdEc2w6fYY",
        "colab_type": "text"
      },
      "source": [
        "8. Converta o vetor unidimensional (1D) abaixo para uma matriz (2D) com 4 linhas. **Dica:** `reshape`."
      ]
    },
    {
      "cell_type": "code",
      "metadata": {
        "id": "I1-XhCF06fYZ",
        "colab_type": "code",
        "colab": {}
      },
      "source": [
        "vetor = np.array([0, 1, 2, 3, 4, 5, 6, 7, 8, 9]);\n",
        "\n",
        "print(np.arange(8).reshape((2, 4)));"
      ],
      "execution_count": 0,
      "outputs": []
    },
    {
      "cell_type": "markdown",
      "metadata": {
        "id": "XtQBkN4K6fYc",
        "colab_type": "text"
      },
      "source": [
        "9. Obtenha os itens em comum, ou seja, a intersecção dos vetores `a` e `b` abaixo:\n",
        "**Saída**: [2, 4, 6]"
      ]
    },
    {
      "cell_type": "code",
      "metadata": {
        "id": "L06NV2YJ6fYd",
        "colab_type": "code",
        "colab": {}
      },
      "source": [
        "a = np.array([0, 1, 2, 3, 4, 5, 6,]);\n",
        "b = np.array([8, 7, 2, 8, 4, 9, 6]);\n",
        "\n",
        "vetor = (np.where(a == b, b ,a==b));\n",
        "\n",
        "vetor = np.array([vetor[2] , vetor[4] , vetor[6]]);\n",
        "\n",
        "print(vetor)\n"
      ],
      "execution_count": 0,
      "outputs": []
    },
    {
      "cell_type": "markdown",
      "metadata": {
        "id": "XJojdpWr6fYi",
        "colab_type": "text"
      },
      "source": [
        "10. Retorne os valores únicos do vetor `a` que não estão no vetor `b` (diferença).\n",
        "**Saída**: [1, 3]"
      ]
    },
    {
      "cell_type": "code",
      "metadata": {
        "id": "6Mivqkwg6fYk",
        "colab_type": "code",
        "colab": {}
      },
      "source": [
        "a = np.array([0, 1, 2, 3, 4, 5, 6,]);\n",
        "b = np.array([0, 7, 2, 8, 4, 5, 6]);\n",
        "\n",
        "vetor = (np.where(a != b, a ,a != b));\n",
        "\n",
        "vetor = np.array([vetor[1] , vetor[3]]);\n",
        "\n",
        "print(vetor)"
      ],
      "execution_count": 0,
      "outputs": []
    },
    {
      "cell_type": "markdown",
      "metadata": {
        "id": "2OVw0Q8l6fYp",
        "colab_type": "text"
      },
      "source": [
        "11. Retorne um vetor com as posições (índices) onde os elementos do vetor `a` sãos iguais aos elementos do vetor `b`. **Dica**: `where`.\n",
        "**Saída**: [2, 3, 5]"
      ]
    },
    {
      "cell_type": "code",
      "metadata": {
        "id": "z-_YGDlB6fYq",
        "colab_type": "code",
        "colab": {}
      },
      "source": [
        "a = np.array([0, 1, 2, 3, 4, 5, 6,]);\n",
        "b = np.array([0, 7, 2, 8, 4, 5, 6]);\n",
        "\n",
        "vetor = (np.where(a != b, a ,a != b));\n",
        "\n",
        "vetor = np.indices([vetor[1] , vetor[3]]);\n",
        "\n",
        "print(vetor)\n"
      ],
      "execution_count": 0,
      "outputs": []
    },
    {
      "cell_type": "markdown",
      "metadata": {
        "id": "9VXSknBf6fYt",
        "colab_type": "text"
      },
      "source": [
        "12. Obtenha todos os itens entre 5 e 15 do vetor `a = [0, 1, 2, 3, . . ., 20]`."
      ]
    },
    {
      "cell_type": "code",
      "metadata": {
        "id": "iPcEawNa6fYt",
        "colab_type": "code",
        "colab": {}
      },
      "source": [
        "vetor = np.array([0, 1, 2, 3, 4, 5, 6, 7, 8, 9, 10, 11, 12, 13, 14, 15, 16, 17, 18, 19, 20])\n",
        "\n",
        "print(np.arange(4,20));"
      ],
      "execution_count": 0,
      "outputs": []
    },
    {
      "cell_type": "markdown",
      "metadata": {
        "id": "mwFd4cVK6fYw",
        "colab_type": "text"
      },
      "source": [
        "13. Crie e imprima um vetor com 5 números aleatórios, sem seguida, obtenha os valores máximo e mínimo dele e mostre na tela."
      ]
    },
    {
      "cell_type": "code",
      "metadata": {
        "id": "RBhC0f176fYx",
        "colab_type": "code",
        "colab": {}
      },
      "source": [
        "vetor = np.array([ 9, 10, 11, 12, 13]);\n",
        "\n",
        "print(np.max(vetor))\n",
        "print(np.min(vetor))"
      ],
      "execution_count": 0,
      "outputs": []
    },
    {
      "cell_type": "markdown",
      "metadata": {
        "id": "Re-zgAhd6fY0",
        "colab_type": "text"
      },
      "source": [
        "14. Crie a seguinte matriz:\n",
        "\n",
        "|   |   |   |\n",
        "|:-:|:-:|:-:|\n",
        "| 7 | 8 | 9 |\n",
        "| 4 | 5 | 6 |\n",
        "| 1 | 2 | 3 |"
      ]
    },
    {
      "cell_type": "code",
      "metadata": {
        "id": "B18Ph9_R6fY0",
        "colab_type": "code",
        "colab": {}
      },
      "source": [
        "vetor = np.array([[ 7, 8, 9],[4,5,6],[1,2,3]])\n",
        "\n",
        "print(vetor)"
      ],
      "execution_count": 0,
      "outputs": []
    },
    {
      "cell_type": "markdown",
      "metadata": {
        "id": "tBL36DG16fY5",
        "colab_type": "text"
      },
      "source": [
        "15. Troque de lugar a primeira coluna com a útllima coluna da matriz."
      ]
    },
    {
      "cell_type": "code",
      "metadata": {
        "id": "gmngFxbq6fY6",
        "colab_type": "code",
        "colab": {}
      },
      "source": [
        "vetor = np.array([[ 7, 8, 9],[4,5,6],[1,2,3]]);\n",
        "\n",
        "vetor = np.arange(9)\n",
        "vetor = vetor.reshape(3,3)\n",
        "\n",
        "vetor[[0, 2]] = vetor[[2, 0]]\n",
        "\n",
        "print(vetor)"
      ],
      "execution_count": 0,
      "outputs": []
    },
    {
      "cell_type": "markdown",
      "metadata": {
        "id": "iWire0Qg6fY9",
        "colab_type": "text"
      },
      "source": [
        "16. Troque de lugar a primeira linha com a útllima linha da matriz."
      ]
    },
    {
      "cell_type": "code",
      "metadata": {
        "id": "SzIzXHg_6fY9",
        "colab_type": "code",
        "colab": {}
      },
      "source": [
        "vetor = np.array([[ 7, 8, 9],[4,5,6],[1,2,3]]);\n",
        "\n",
        "vetor[(0,2), :] = vetor[(2,0), :]\n",
        "\n",
        "print(vetor)"
      ],
      "execution_count": 0,
      "outputs": []
    },
    {
      "cell_type": "markdown",
      "metadata": {
        "id": "JLhljLUG6fZC",
        "colab_type": "text"
      },
      "source": [
        "17. Crie uma matriz  7 × 5 preenchida com números decimais aleatórios entre 1 e 5."
      ]
    },
    {
      "cell_type": "code",
      "metadata": {
        "id": "e6whQZbL6fZD",
        "colab_type": "code",
        "colab": {}
      },
      "source": [
        "vetor = np.random.randint(1,6, size=(7, 5))\n",
        "\n",
        "print(vetor)\n"
      ],
      "execution_count": 0,
      "outputs": []
    },
    {
      "cell_type": "markdown",
      "metadata": {
        "id": "l_GbFxJ66fZI",
        "colab_type": "text"
      },
      "source": [
        "18. Qual é o comprimento `len` da matriz?"
      ]
    },
    {
      "cell_type": "code",
      "metadata": {
        "id": "JJiYBLoM6fZJ",
        "colab_type": "code",
        "colab": {}
      },
      "source": [
        "vetor = np.random.randint(5, size=(7, 5))\n",
        "\n",
        "print(len(vetor))"
      ],
      "execution_count": 0,
      "outputs": []
    },
    {
      "cell_type": "markdown",
      "metadata": {
        "id": "KsBeDDXc6fZQ",
        "colab_type": "text"
      },
      "source": [
        "19. Quantas dimensões `ndim` a matriz possui?"
      ]
    },
    {
      "cell_type": "code",
      "metadata": {
        "id": "8jxbE2iP6fZR",
        "colab_type": "code",
        "colab": {}
      },
      "source": [
        "vetor = np.random.randint(5, size=(7, 5))\n",
        "\n",
        "print(np.ndim(vetor))"
      ],
      "execution_count": 0,
      "outputs": []
    },
    {
      "cell_type": "markdown",
      "metadata": {
        "id": "dxMuP0Ga6fZV",
        "colab_type": "text"
      },
      "source": [
        "20. O que a função `shape` retorna?"
      ]
    },
    {
      "cell_type": "code",
      "metadata": {
        "id": "WMtOt7qp6fZW",
        "colab_type": "code",
        "colab": {}
      },
      "source": [
        "# Escreva seu código aqui\n",
        "\n",
        "vetor = np.random.randint(5, size=(7, 5))\n",
        "\n",
        "print(np.shape(vetor))"
      ],
      "execution_count": 0,
      "outputs": []
    },
    {
      "cell_type": "markdown",
      "metadata": {
        "id": "_4NcFAxx6fZY",
        "colab_type": "text"
      },
      "source": [
        "**Resposta**:"
      ]
    },
    {
      "cell_type": "markdown",
      "metadata": {
        "id": "cTeSecxh6fZZ",
        "colab_type": "text"
      },
      "source": [
        "# EXERCÍCIO: Análise de Dados dos Jogadores da FIFA ⚽"
      ]
    },
    {
      "cell_type": "markdown",
      "metadata": {
        "id": "gu5-rK3s6fZa",
        "colab_type": "text"
      },
      "source": [
        "Neste exercício, iremos usar a biblioteca NumPy para fazer uma análise de dados de jogares de futebol da FIFA disponíveis em [`data/fifa.csv`](data/fifa.csv). O conjunto de dados (dataset) foi adaptado da versão original disponibilizada nas plataformas: [Kaggle](https://www.kaggle.com/karangadiya/fifa19/data) e [GitHub](https://github.com/amanthedorkknight/fifa18-all-player-statistics).\n",
        "\n",
        "## Dicionário de Dados\n",
        "\n",
        "| Coluna        | Descrição                                        |\n",
        "|:--------------|:-------------------------------------------------|\n",
        "| id            | Identificador único do jogador                   |\n",
        "| nome          | Nome do jogador                                  |\n",
        "| foto          | URL da fotografia do jogador.                    |\n",
        "| nacionalidade | País do jogador.                                 |\n",
        "| avaliacao     | Avaliação geral do jogador.                      |\n",
        "| potencial     | Indicador da classificação potencial do jogador. |\n",
        "| time          | Nome do time do jogador.                         |\n",
        "| pe_preferido  | Direito (Destro), Esquerdo (Canhoto).            |\n",
        "| reputacao     | Reputação Internacional do jogador.              |\n",
        "| altura_cm     | Altura do jogador em centímetros (cm).           |\n",
        "| peso_kg       | Peso do jogador em kilos (kg).                   |\n",
        "| posicao       | Posição do jogador no time.                      |\n",
        "| numero_camisa | Número da camisa do jogador.                     |"
      ]
    },
    {
      "cell_type": "markdown",
      "metadata": {
        "id": "KFuOH7vr6fZa",
        "colab_type": "text"
      },
      "source": [
        "1. Importe o pacote numpy com o nome np."
      ]
    },
    {
      "cell_type": "code",
      "metadata": {
        "id": "kaoQcVpd6fZb",
        "colab_type": "code",
        "colab": {}
      },
      "source": [
        "import numpy as np"
      ],
      "execution_count": 0,
      "outputs": []
    },
    {
      "cell_type": "markdown",
      "metadata": {
        "id": "jZCGtABZ6fZf",
        "colab_type": "text"
      },
      "source": [
        "2. Carregue o conjunto de dados da Fifa disponível na pasta (`data/fifa.csv`), ignorando a coluna `foto`, para uma matriz em uma variavel chamada `dados`. **Dicas:**\n",
        "    - Pesquise pela função `genfromtxt`; \n",
        "    - Não esqueça de especificar a codificação (encoding) como UTF-8;\n",
        "    - Ignore o cabeçalho dos dados usando o parâmetro `skip_header=True`"
      ]
    },
    {
      "cell_type": "code",
      "metadata": {
        "id": "ruAqSC876fZf",
        "colab_type": "code",
        "colab": {}
      },
      "source": [
        "dados = np.genfromtxt('fifa.csv', delimiter= ' . ', encoding= 'utf-8', dtype=object, skip_header=true,  usecols=[0,1,2,3,4,5,6,7,8,9,10,11])\n",
        "dados"
      ],
      "execution_count": 0,
      "outputs": []
    },
    {
      "cell_type": "markdown",
      "metadata": {
        "id": "NDtyW2AO6fZk",
        "colab_type": "text"
      },
      "source": [
        "3. Quantas linhas foram lidas do arquivo?"
      ]
    },
    {
      "cell_type": "code",
      "metadata": {
        "id": "lWyHah2S6fZk",
        "colab_type": "code",
        "colab": {}
      },
      "source": [
        "len(dados)"
      ],
      "execution_count": 0,
      "outputs": []
    },
    {
      "cell_type": "markdown",
      "metadata": {
        "id": "JkPn55Wp6fZn",
        "colab_type": "text"
      },
      "source": [
        "4. Quantas dimensões sua variável `dados` possui?"
      ]
    },
    {
      "cell_type": "code",
      "metadata": {
        "id": "UyF2NXy36fZo",
        "colab_type": "code",
        "colab": {}
      },
      "source": [
        "np.dim(dados)"
      ],
      "execution_count": 0,
      "outputs": []
    },
    {
      "cell_type": "markdown",
      "metadata": {
        "id": "6zJXuJYD6fZv",
        "colab_type": "text"
      },
      "source": [
        "5. O que a função shape retorna?"
      ]
    },
    {
      "cell_type": "code",
      "metadata": {
        "id": "7CBKSRxY6fZv",
        "colab_type": "code",
        "colab": {}
      },
      "source": [
        "np.shapes(dados)\n"
      ],
      "execution_count": 0,
      "outputs": []
    },
    {
      "cell_type": "markdown",
      "metadata": {
        "id": "Q7DK5XZ76fZy",
        "colab_type": "text"
      },
      "source": [
        "**Resposta**:"
      ]
    },
    {
      "cell_type": "markdown",
      "metadata": {
        "id": "6HYnv4Iy6fZ2",
        "colab_type": "text"
      },
      "source": [
        "6. Mostre o dado que está na 3ª linha da 4ª coluna?"
      ]
    },
    {
      "cell_type": "code",
      "metadata": {
        "id": "0jazzhAZ6fZ3",
        "colab_type": "code",
        "colab": {}
      },
      "source": [
        "# 0, 1, 2, 3, ..., n\n",
        "dados[]\n"
      ],
      "execution_count": 0,
      "outputs": []
    },
    {
      "cell_type": "markdown",
      "metadata": {
        "id": "Pn1erAtx6fZ8",
        "colab_type": "text"
      },
      "source": [
        "7. Exiba os dados da primeira linha do dataset."
      ]
    },
    {
      "cell_type": "code",
      "metadata": {
        "id": "rfMf77UP6fZ9",
        "colab_type": "code",
        "colab": {}
      },
      "source": [
        "dados[0]"
      ],
      "execution_count": 0,
      "outputs": []
    },
    {
      "cell_type": "markdown",
      "metadata": {
        "id": "BEICmZpm6faC",
        "colab_type": "text"
      },
      "source": [
        "8. Mostre as 5 primeiras linhas do conjunto de dados."
      ]
    },
    {
      "cell_type": "code",
      "metadata": {
        "id": "CXiNlZ8s6faD",
        "colab_type": "code",
        "colab": {}
      },
      "source": [
        "dados[:5]"
      ],
      "execution_count": 0,
      "outputs": []
    },
    {
      "cell_type": "markdown",
      "metadata": {
        "id": "HxeyQNFm6faG",
        "colab_type": "text"
      },
      "source": [
        "9. Selecione todas as linhas da coluna `nome` (segunda coluna). **Dica:** use o operador `:`"
      ]
    },
    {
      "cell_type": "code",
      "metadata": {
        "id": "Kuwuf-7r6faH",
        "colab_type": "code",
        "colab": {}
      },
      "source": [
        "dados[:,1]"
      ],
      "execution_count": 0,
      "outputs": []
    },
    {
      "cell_type": "markdown",
      "metadata": {
        "id": "irh1CShm6faJ",
        "colab_type": "text"
      },
      "source": [
        "10. Inicialize um vetor de inteiros NumPy chamado: **idades**; com todas as linhas da coluna `idade` (3ª coluna)."
      ]
    },
    {
      "cell_type": "code",
      "metadata": {
        "id": "6sfrwP8K6faJ",
        "colab_type": "code",
        "colab": {}
      },
      "source": [
        " idades = np.array(dados[:, 2], dtype=int)\n",
        "idades\n",
        "  "
      ],
      "execution_count": 0,
      "outputs": []
    },
    {
      "cell_type": "markdown",
      "metadata": {
        "id": "W5XVeL4V6faM",
        "colab_type": "text"
      },
      "source": [
        "11. Qual é a média de idades dos jogadores?"
      ]
    },
    {
      "cell_type": "code",
      "metadata": {
        "id": "0NbtpkDQ6faN",
        "colab_type": "code",
        "colab": {}
      },
      "source": [
        "idades.mean()"
      ],
      "execution_count": 0,
      "outputs": []
    },
    {
      "cell_type": "markdown",
      "metadata": {
        "id": "HK1fnKzn6faQ",
        "colab_type": "text"
      },
      "source": [
        "12. Qual é a maior idade do conjunto de dados?"
      ]
    },
    {
      "cell_type": "code",
      "metadata": {
        "id": "ZnYgFgHa6faQ",
        "colab_type": "code",
        "colab": {}
      },
      "source": [
        "idades.max()"
      ],
      "execution_count": 0,
      "outputs": []
    },
    {
      "cell_type": "markdown",
      "metadata": {
        "id": "ggXzxpVL6faY",
        "colab_type": "text"
      },
      "source": [
        "13. Qual é a menor idade do conjunto de dados?"
      ]
    },
    {
      "cell_type": "code",
      "metadata": {
        "id": "kGIQZPjR6faZ",
        "colab_type": "code",
        "colab": {}
      },
      "source": [
        "idades.min()\n"
      ],
      "execution_count": 0,
      "outputs": []
    },
    {
      "cell_type": "markdown",
      "metadata": {
        "id": "u01MlW0W6fac",
        "colab_type": "text"
      },
      "source": [
        "14. Selecione todos os jogadores que possuem a maior idade deste conjunto de dados. Quantas linhas retornaram? "
      ]
    },
    {
      "cell_type": "code",
      "metadata": {
        "id": "YtVkCSo36fad",
        "colab_type": "code",
        "colab": {}
      },
      "source": [
        "maior_idade = idades.max()\n",
        "condicao = dados[:, 2].astype(int) == maior.idade"
      ],
      "execution_count": 0,
      "outputs": []
    },
    {
      "cell_type": "markdown",
      "metadata": {
        "id": "BQr-8oy-6fai",
        "colab_type": "text"
      },
      "source": [
        "15. Selecione todos os jogadores que possuem a menor idade deste conjunto de dados. Quantas linhas retornaram? "
      ]
    },
    {
      "cell_type": "code",
      "metadata": {
        "id": "52YzNr2B6faj",
        "colab_type": "code",
        "colab": {}
      },
      "source": [
        "menor_idade = idades.min()\n",
        "condicao = dados[:, 2].astype(int) == menor.idade"
      ],
      "execution_count": 0,
      "outputs": []
    },
    {
      "cell_type": "markdown",
      "metadata": {
        "id": "8DzPoeuD6fao",
        "colab_type": "text"
      },
      "source": [
        "16. Selecione todos os jogadores brasileiros para uma variável chamada dados_brasil. Use `b'Brasil'` para fazer a comparação."
      ]
    },
    {
      "cell_type": "code",
      "metadata": {
        "id": "5ElQHP0O6fap",
        "colab_type": "code",
        "colab": {}
      },
      "source": [
        "# 'Brasil'\n",
        "condicao = dados[:,3] == b'Brasil'\n",
        "dados_brasil = dados[condicao,:]\n",
        "print(dados_brasil)\n",
        "len(dados_brasil)\n",
        "\n"
      ],
      "execution_count": 0,
      "outputs": []
    },
    {
      "cell_type": "markdown",
      "metadata": {
        "id": "wscnDsCX6far",
        "colab_type": "text"
      },
      "source": [
        "17. Quantos são os jogadores brasileiros?"
      ]
    },
    {
      "cell_type": "code",
      "metadata": {
        "id": "VsNAZU3V6fas",
        "colab_type": "code",
        "colab": {}
      },
      "source": [
        " len(dados_brasil)\n"
      ],
      "execution_count": 0,
      "outputs": []
    },
    {
      "cell_type": "markdown",
      "metadata": {
        "id": "_8idM-ih6fau",
        "colab_type": "text"
      },
      "source": [
        "18. Para as colunas `idade`, `altura` e `peso`, calcule:\n",
        "    - Média\n",
        "    - Mediana\n",
        "    - Máximo\n",
        "    - Mínimo"
      ]
    },
    {
      "cell_type": "code",
      "metadata": {
        "id": "Tj5vHzuV6fav",
        "colab_type": "code",
        "colab": {}
      },
      "source": [
        " #altura\n",
        "altura = dados[:, 8]\n",
        "altura\n",
        "#print(altura.mean())\n",
        "\n",
        "#peso\n",
        "condicao_vazio = dados[:,10] != b''\n",
        "peso = dados[condicao_vazio, 10].astype(float)\n",
        "peso.mean()\n",
        "peso"
      ],
      "execution_count": 0,
      "outputs": []
    },
    {
      "cell_type": "markdown",
      "metadata": {
        "id": "DVbF3w9C6fax",
        "colab_type": "text"
      },
      "source": [
        "19. Calcule o desvio padrão da `reputação` dos jogadores brasileiros"
      ]
    },
    {
      "cell_type": "code",
      "metadata": {
        "id": "t7CXzSju6fay",
        "colab_type": "code",
        "colab": {}
      },
      "source": [
        "reputacao_vazio = dados[:,8] != b''\n",
        "reputacao = dados[reputacao_vazio,8].astype(int)\n",
        "\n",
        "np.std(reputacao)"
      ],
      "execution_count": 0,
      "outputs": []
    },
    {
      "cell_type": "markdown",
      "metadata": {
        "id": "WFjgBqjR6fa2",
        "colab_type": "text"
      },
      "source": [
        "20. Qual jogador brasileiro tem menor pontencial?"
      ]
    },
    {
      "cell_type": "code",
      "metadata": {
        "id": "dScgLCdJ6fa3",
        "colab_type": "code",
        "colab": {}
      },
      "source": [
        "condicao = dados[:, 3] == b'Brasil'\n",
        "brasil_dados = dados[condicao,:]\n",
        "\n",
        "potencial = brasil_dados[:,5]\n",
        "\n",
        "potencial.min()"
      ],
      "execution_count": 0,
      "outputs": []
    }
  ]
}